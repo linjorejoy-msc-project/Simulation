{
 "cells": [
  {
   "cell_type": "code",
   "execution_count": null,
   "metadata": {},
   "outputs": [],
   "source": [
    "\n",
    "\n",
    "print('Hello')"
   ]
  },
  {
   "cell_type": "markdown",
   "metadata": {},
   "source": [
    "![Rocket](https://web.mit.edu/16.unified/www/SPRING/propulsion/notes/fig5RocketFBD_web.jpg)"
   ]
  },
  {
   "cell_type": "code",
   "execution_count": null,
   "metadata": {},
   "outputs": [],
   "source": []
  }
 ],
 "metadata": {
  "kernelspec": {
   "display_name": "Python 3.10.5 ('socket_venv': venv)",
   "language": "python",
   "name": "python3"
  },
  "language_info": {
   "name": "python",
   "version": "3.10.5"
  },
  "orig_nbformat": 4,
  "vscode": {
   "interpreter": {
    "hash": "a775a42ce8df3d6b5cd1324542742e67bab41e91cc828d8e874fd55dc82a1bb7"
   }
  }
 },
 "nbformat": 4,
 "nbformat_minor": 2
}
